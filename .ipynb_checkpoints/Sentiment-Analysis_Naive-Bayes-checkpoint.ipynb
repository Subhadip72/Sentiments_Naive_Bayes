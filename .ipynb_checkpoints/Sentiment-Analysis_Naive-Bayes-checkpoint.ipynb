{
 "cells": [
  {
   "cell_type": "markdown",
   "id": "964f56de",
   "metadata": {},
   "source": [
    "# Sentiment Analysis using Naive Bayes"
   ]
  },
  {
   "cell_type": "code",
   "execution_count": 1,
   "id": "4bff9aaf",
   "metadata": {},
   "outputs": [],
   "source": [
    "import numpy as np\n",
    "import pandas as pd\n",
    "import nltk\n",
    "import matplotlib.pyplot as plt\n",
    "import random"
   ]
  },
  {
   "cell_type": "code",
   "execution_count": 2,
   "id": "6b190017",
   "metadata": {},
   "outputs": [
    {
     "data": {
      "text/html": [
       "<div>\n",
       "<style scoped>\n",
       "    .dataframe tbody tr th:only-of-type {\n",
       "        vertical-align: middle;\n",
       "    }\n",
       "\n",
       "    .dataframe tbody tr th {\n",
       "        vertical-align: top;\n",
       "    }\n",
       "\n",
       "    .dataframe thead th {\n",
       "        text-align: right;\n",
       "    }\n",
       "</style>\n",
       "<table border=\"1\" class=\"dataframe\">\n",
       "  <thead>\n",
       "    <tr style=\"text-align: right;\">\n",
       "      <th></th>\n",
       "      <th>0</th>\n",
       "      <th>1</th>\n",
       "      <th>2</th>\n",
       "      <th>3</th>\n",
       "      <th>4</th>\n",
       "      <th>5</th>\n",
       "    </tr>\n",
       "  </thead>\n",
       "  <tbody>\n",
       "    <tr>\n",
       "      <th>0</th>\n",
       "      <td>0</td>\n",
       "      <td>1467810369</td>\n",
       "      <td>Mon Apr 06 22:19:45 PDT 2009</td>\n",
       "      <td>NO_QUERY</td>\n",
       "      <td>_TheSpecialOne_</td>\n",
       "      <td>@switchfoot http://twitpic.com/2y1zl - Awww, t...</td>\n",
       "    </tr>\n",
       "    <tr>\n",
       "      <th>1</th>\n",
       "      <td>0</td>\n",
       "      <td>1467810672</td>\n",
       "      <td>Mon Apr 06 22:19:49 PDT 2009</td>\n",
       "      <td>NO_QUERY</td>\n",
       "      <td>scotthamilton</td>\n",
       "      <td>is upset that he can't update his Facebook by ...</td>\n",
       "    </tr>\n",
       "    <tr>\n",
       "      <th>2</th>\n",
       "      <td>0</td>\n",
       "      <td>1467810917</td>\n",
       "      <td>Mon Apr 06 22:19:53 PDT 2009</td>\n",
       "      <td>NO_QUERY</td>\n",
       "      <td>mattycus</td>\n",
       "      <td>@Kenichan I dived many times for the ball. Man...</td>\n",
       "    </tr>\n",
       "    <tr>\n",
       "      <th>3</th>\n",
       "      <td>0</td>\n",
       "      <td>1467811184</td>\n",
       "      <td>Mon Apr 06 22:19:57 PDT 2009</td>\n",
       "      <td>NO_QUERY</td>\n",
       "      <td>ElleCTF</td>\n",
       "      <td>my whole body feels itchy and like its on fire</td>\n",
       "    </tr>\n",
       "    <tr>\n",
       "      <th>4</th>\n",
       "      <td>0</td>\n",
       "      <td>1467811193</td>\n",
       "      <td>Mon Apr 06 22:19:57 PDT 2009</td>\n",
       "      <td>NO_QUERY</td>\n",
       "      <td>Karoli</td>\n",
       "      <td>@nationwideclass no, it's not behaving at all....</td>\n",
       "    </tr>\n",
       "  </tbody>\n",
       "</table>\n",
       "</div>"
      ],
      "text/plain": [
       "   0           1                             2         3                4  \\\n",
       "0  0  1467810369  Mon Apr 06 22:19:45 PDT 2009  NO_QUERY  _TheSpecialOne_   \n",
       "1  0  1467810672  Mon Apr 06 22:19:49 PDT 2009  NO_QUERY    scotthamilton   \n",
       "2  0  1467810917  Mon Apr 06 22:19:53 PDT 2009  NO_QUERY         mattycus   \n",
       "3  0  1467811184  Mon Apr 06 22:19:57 PDT 2009  NO_QUERY          ElleCTF   \n",
       "4  0  1467811193  Mon Apr 06 22:19:57 PDT 2009  NO_QUERY           Karoli   \n",
       "\n",
       "                                                   5  \n",
       "0  @switchfoot http://twitpic.com/2y1zl - Awww, t...  \n",
       "1  is upset that he can't update his Facebook by ...  \n",
       "2  @Kenichan I dived many times for the ball. Man...  \n",
       "3    my whole body feels itchy and like its on fire   \n",
       "4  @nationwideclass no, it's not behaving at all....  "
      ]
     },
     "execution_count": 2,
     "metadata": {},
     "output_type": "execute_result"
    }
   ],
   "source": [
    "df = pd.read_csv('tweets-data.csv', encoding='latin-1', header=None)\n",
    "\n",
    "df.head()"
   ]
  },
  {
   "cell_type": "code",
   "execution_count": 3,
   "id": "538c0bbc",
   "metadata": {},
   "outputs": [
    {
     "data": {
      "text/html": [
       "<div>\n",
       "<style scoped>\n",
       "    .dataframe tbody tr th:only-of-type {\n",
       "        vertical-align: middle;\n",
       "    }\n",
       "\n",
       "    .dataframe tbody tr th {\n",
       "        vertical-align: top;\n",
       "    }\n",
       "\n",
       "    .dataframe thead th {\n",
       "        text-align: right;\n",
       "    }\n",
       "</style>\n",
       "<table border=\"1\" class=\"dataframe\">\n",
       "  <thead>\n",
       "    <tr style=\"text-align: right;\">\n",
       "      <th></th>\n",
       "      <th>sentiment</th>\n",
       "      <th>id</th>\n",
       "      <th>date</th>\n",
       "      <th>query</th>\n",
       "      <th>user</th>\n",
       "      <th>tweet</th>\n",
       "    </tr>\n",
       "  </thead>\n",
       "  <tbody>\n",
       "    <tr>\n",
       "      <th>0</th>\n",
       "      <td>0</td>\n",
       "      <td>1467810369</td>\n",
       "      <td>Mon Apr 06 22:19:45 PDT 2009</td>\n",
       "      <td>NO_QUERY</td>\n",
       "      <td>_TheSpecialOne_</td>\n",
       "      <td>@switchfoot http://twitpic.com/2y1zl - Awww, t...</td>\n",
       "    </tr>\n",
       "    <tr>\n",
       "      <th>1</th>\n",
       "      <td>0</td>\n",
       "      <td>1467810672</td>\n",
       "      <td>Mon Apr 06 22:19:49 PDT 2009</td>\n",
       "      <td>NO_QUERY</td>\n",
       "      <td>scotthamilton</td>\n",
       "      <td>is upset that he can't update his Facebook by ...</td>\n",
       "    </tr>\n",
       "    <tr>\n",
       "      <th>2</th>\n",
       "      <td>0</td>\n",
       "      <td>1467810917</td>\n",
       "      <td>Mon Apr 06 22:19:53 PDT 2009</td>\n",
       "      <td>NO_QUERY</td>\n",
       "      <td>mattycus</td>\n",
       "      <td>@Kenichan I dived many times for the ball. Man...</td>\n",
       "    </tr>\n",
       "    <tr>\n",
       "      <th>3</th>\n",
       "      <td>0</td>\n",
       "      <td>1467811184</td>\n",
       "      <td>Mon Apr 06 22:19:57 PDT 2009</td>\n",
       "      <td>NO_QUERY</td>\n",
       "      <td>ElleCTF</td>\n",
       "      <td>my whole body feels itchy and like its on fire</td>\n",
       "    </tr>\n",
       "    <tr>\n",
       "      <th>4</th>\n",
       "      <td>0</td>\n",
       "      <td>1467811193</td>\n",
       "      <td>Mon Apr 06 22:19:57 PDT 2009</td>\n",
       "      <td>NO_QUERY</td>\n",
       "      <td>Karoli</td>\n",
       "      <td>@nationwideclass no, it's not behaving at all....</td>\n",
       "    </tr>\n",
       "  </tbody>\n",
       "</table>\n",
       "</div>"
      ],
      "text/plain": [
       "   sentiment          id                          date     query  \\\n",
       "0          0  1467810369  Mon Apr 06 22:19:45 PDT 2009  NO_QUERY   \n",
       "1          0  1467810672  Mon Apr 06 22:19:49 PDT 2009  NO_QUERY   \n",
       "2          0  1467810917  Mon Apr 06 22:19:53 PDT 2009  NO_QUERY   \n",
       "3          0  1467811184  Mon Apr 06 22:19:57 PDT 2009  NO_QUERY   \n",
       "4          0  1467811193  Mon Apr 06 22:19:57 PDT 2009  NO_QUERY   \n",
       "\n",
       "              user                                              tweet  \n",
       "0  _TheSpecialOne_  @switchfoot http://twitpic.com/2y1zl - Awww, t...  \n",
       "1    scotthamilton  is upset that he can't update his Facebook by ...  \n",
       "2         mattycus  @Kenichan I dived many times for the ball. Man...  \n",
       "3          ElleCTF    my whole body feels itchy and like its on fire   \n",
       "4           Karoli  @nationwideclass no, it's not behaving at all....  "
      ]
     },
     "execution_count": 3,
     "metadata": {},
     "output_type": "execute_result"
    }
   ],
   "source": [
    "df.columns = ['sentiment', 'id', 'date', 'query', 'user', 'tweet']\n",
    "\n",
    "df.head()"
   ]
  },
  {
   "cell_type": "code",
   "execution_count": 4,
   "id": "fe84143c",
   "metadata": {},
   "outputs": [
    {
     "data": {
      "text/html": [
       "<div>\n",
       "<style scoped>\n",
       "    .dataframe tbody tr th:only-of-type {\n",
       "        vertical-align: middle;\n",
       "    }\n",
       "\n",
       "    .dataframe tbody tr th {\n",
       "        vertical-align: top;\n",
       "    }\n",
       "\n",
       "    .dataframe thead th {\n",
       "        text-align: right;\n",
       "    }\n",
       "</style>\n",
       "<table border=\"1\" class=\"dataframe\">\n",
       "  <thead>\n",
       "    <tr style=\"text-align: right;\">\n",
       "      <th></th>\n",
       "      <th>sentiment</th>\n",
       "      <th>tweet</th>\n",
       "    </tr>\n",
       "  </thead>\n",
       "  <tbody>\n",
       "    <tr>\n",
       "      <th>0</th>\n",
       "      <td>0</td>\n",
       "      <td>@switchfoot http://twitpic.com/2y1zl - Awww, t...</td>\n",
       "    </tr>\n",
       "    <tr>\n",
       "      <th>1</th>\n",
       "      <td>0</td>\n",
       "      <td>is upset that he can't update his Facebook by ...</td>\n",
       "    </tr>\n",
       "    <tr>\n",
       "      <th>2</th>\n",
       "      <td>0</td>\n",
       "      <td>@Kenichan I dived many times for the ball. Man...</td>\n",
       "    </tr>\n",
       "    <tr>\n",
       "      <th>3</th>\n",
       "      <td>0</td>\n",
       "      <td>my whole body feels itchy and like its on fire</td>\n",
       "    </tr>\n",
       "    <tr>\n",
       "      <th>4</th>\n",
       "      <td>0</td>\n",
       "      <td>@nationwideclass no, it's not behaving at all....</td>\n",
       "    </tr>\n",
       "  </tbody>\n",
       "</table>\n",
       "</div>"
      ],
      "text/plain": [
       "   sentiment                                              tweet\n",
       "0          0  @switchfoot http://twitpic.com/2y1zl - Awww, t...\n",
       "1          0  is upset that he can't update his Facebook by ...\n",
       "2          0  @Kenichan I dived many times for the ball. Man...\n",
       "3          0    my whole body feels itchy and like its on fire \n",
       "4          0  @nationwideclass no, it's not behaving at all...."
      ]
     },
     "execution_count": 4,
     "metadata": {},
     "output_type": "execute_result"
    }
   ],
   "source": [
    "df = df.drop(['id', 'date', 'query', 'user'], axis=1)\n",
    "\n",
    "df.head()"
   ]
  },
  {
   "cell_type": "code",
   "execution_count": 5,
   "id": "e36992e9",
   "metadata": {},
   "outputs": [],
   "source": [
    "label_mapping = {0 : 'negative', 4 : 'positive'}\n",
    "\n",
    "def label_encoder(label):\n",
    "    return label_mapping[label]"
   ]
  },
  {
   "cell_type": "code",
   "execution_count": 6,
   "id": "d61fe697",
   "metadata": {},
   "outputs": [
    {
     "data": {
      "text/html": [
       "<div>\n",
       "<style scoped>\n",
       "    .dataframe tbody tr th:only-of-type {\n",
       "        vertical-align: middle;\n",
       "    }\n",
       "\n",
       "    .dataframe tbody tr th {\n",
       "        vertical-align: top;\n",
       "    }\n",
       "\n",
       "    .dataframe thead th {\n",
       "        text-align: right;\n",
       "    }\n",
       "</style>\n",
       "<table border=\"1\" class=\"dataframe\">\n",
       "  <thead>\n",
       "    <tr style=\"text-align: right;\">\n",
       "      <th></th>\n",
       "      <th>sentiment</th>\n",
       "      <th>tweet</th>\n",
       "    </tr>\n",
       "  </thead>\n",
       "  <tbody>\n",
       "    <tr>\n",
       "      <th>0</th>\n",
       "      <td>negative</td>\n",
       "      <td>@switchfoot http://twitpic.com/2y1zl - Awww, t...</td>\n",
       "    </tr>\n",
       "    <tr>\n",
       "      <th>1</th>\n",
       "      <td>negative</td>\n",
       "      <td>is upset that he can't update his Facebook by ...</td>\n",
       "    </tr>\n",
       "    <tr>\n",
       "      <th>2</th>\n",
       "      <td>negative</td>\n",
       "      <td>@Kenichan I dived many times for the ball. Man...</td>\n",
       "    </tr>\n",
       "    <tr>\n",
       "      <th>3</th>\n",
       "      <td>negative</td>\n",
       "      <td>my whole body feels itchy and like its on fire</td>\n",
       "    </tr>\n",
       "    <tr>\n",
       "      <th>4</th>\n",
       "      <td>negative</td>\n",
       "      <td>@nationwideclass no, it's not behaving at all....</td>\n",
       "    </tr>\n",
       "    <tr>\n",
       "      <th>5</th>\n",
       "      <td>negative</td>\n",
       "      <td>@Kwesidei not the whole crew</td>\n",
       "    </tr>\n",
       "    <tr>\n",
       "      <th>6</th>\n",
       "      <td>negative</td>\n",
       "      <td>Need a hug</td>\n",
       "    </tr>\n",
       "    <tr>\n",
       "      <th>7</th>\n",
       "      <td>negative</td>\n",
       "      <td>@LOLTrish hey  long time no see! Yes.. Rains a...</td>\n",
       "    </tr>\n",
       "    <tr>\n",
       "      <th>8</th>\n",
       "      <td>negative</td>\n",
       "      <td>@Tatiana_K nope they didn't have it</td>\n",
       "    </tr>\n",
       "    <tr>\n",
       "      <th>9</th>\n",
       "      <td>negative</td>\n",
       "      <td>@twittera que me muera ?</td>\n",
       "    </tr>\n",
       "  </tbody>\n",
       "</table>\n",
       "</div>"
      ],
      "text/plain": [
       "  sentiment                                              tweet\n",
       "0  negative  @switchfoot http://twitpic.com/2y1zl - Awww, t...\n",
       "1  negative  is upset that he can't update his Facebook by ...\n",
       "2  negative  @Kenichan I dived many times for the ball. Man...\n",
       "3  negative    my whole body feels itchy and like its on fire \n",
       "4  negative  @nationwideclass no, it's not behaving at all....\n",
       "5  negative                      @Kwesidei not the whole crew \n",
       "6  negative                                        Need a hug \n",
       "7  negative  @LOLTrish hey  long time no see! Yes.. Rains a...\n",
       "8  negative               @Tatiana_K nope they didn't have it \n",
       "9  negative                          @twittera que me muera ? "
      ]
     },
     "execution_count": 6,
     "metadata": {},
     "output_type": "execute_result"
    }
   ],
   "source": [
    "df['sentiment'] = df['sentiment'].map(label_encoder)\n",
    "\n",
    "df.head(10)"
   ]
  },
  {
   "cell_type": "code",
   "execution_count": 7,
   "id": "ba85cc2d",
   "metadata": {},
   "outputs": [
    {
     "data": {
      "text/html": [
       "<div>\n",
       "<style scoped>\n",
       "    .dataframe tbody tr th:only-of-type {\n",
       "        vertical-align: middle;\n",
       "    }\n",
       "\n",
       "    .dataframe tbody tr th {\n",
       "        vertical-align: top;\n",
       "    }\n",
       "\n",
       "    .dataframe thead th {\n",
       "        text-align: right;\n",
       "    }\n",
       "</style>\n",
       "<table border=\"1\" class=\"dataframe\">\n",
       "  <thead>\n",
       "    <tr style=\"text-align: right;\">\n",
       "      <th></th>\n",
       "      <th>sentiment</th>\n",
       "      <th>tweet</th>\n",
       "    </tr>\n",
       "  </thead>\n",
       "  <tbody>\n",
       "    <tr>\n",
       "      <th>800000</th>\n",
       "      <td>positive</td>\n",
       "      <td>I LOVE @Health4UandPets u guys r the best!!</td>\n",
       "    </tr>\n",
       "    <tr>\n",
       "      <th>800001</th>\n",
       "      <td>positive</td>\n",
       "      <td>im meeting up with one of my besties tonight! ...</td>\n",
       "    </tr>\n",
       "    <tr>\n",
       "      <th>800002</th>\n",
       "      <td>positive</td>\n",
       "      <td>@DaRealSunisaKim Thanks for the Twitter add, S...</td>\n",
       "    </tr>\n",
       "    <tr>\n",
       "      <th>800003</th>\n",
       "      <td>positive</td>\n",
       "      <td>Being sick can be really cheap when it hurts t...</td>\n",
       "    </tr>\n",
       "    <tr>\n",
       "      <th>800004</th>\n",
       "      <td>positive</td>\n",
       "      <td>@LovesBrooklyn2 he has that effect on everyone</td>\n",
       "    </tr>\n",
       "    <tr>\n",
       "      <th>800005</th>\n",
       "      <td>positive</td>\n",
       "      <td>@ProductOfFear You can tell him that I just bu...</td>\n",
       "    </tr>\n",
       "    <tr>\n",
       "      <th>800006</th>\n",
       "      <td>positive</td>\n",
       "      <td>@r_keith_hill Thans for your response. Ihad al...</td>\n",
       "    </tr>\n",
       "    <tr>\n",
       "      <th>800007</th>\n",
       "      <td>positive</td>\n",
       "      <td>@KeepinUpWKris I am so jealous, hope you had a...</td>\n",
       "    </tr>\n",
       "    <tr>\n",
       "      <th>800008</th>\n",
       "      <td>positive</td>\n",
       "      <td>@tommcfly ah, congrats mr fletcher for finally...</td>\n",
       "    </tr>\n",
       "    <tr>\n",
       "      <th>800009</th>\n",
       "      <td>positive</td>\n",
       "      <td>@e4VoIP I RESPONDED  Stupid cat is helping me ...</td>\n",
       "    </tr>\n",
       "  </tbody>\n",
       "</table>\n",
       "</div>"
      ],
      "text/plain": [
       "       sentiment                                              tweet\n",
       "800000  positive       I LOVE @Health4UandPets u guys r the best!! \n",
       "800001  positive  im meeting up with one of my besties tonight! ...\n",
       "800002  positive  @DaRealSunisaKim Thanks for the Twitter add, S...\n",
       "800003  positive  Being sick can be really cheap when it hurts t...\n",
       "800004  positive    @LovesBrooklyn2 he has that effect on everyone \n",
       "800005  positive  @ProductOfFear You can tell him that I just bu...\n",
       "800006  positive  @r_keith_hill Thans for your response. Ihad al...\n",
       "800007  positive  @KeepinUpWKris I am so jealous, hope you had a...\n",
       "800008  positive  @tommcfly ah, congrats mr fletcher for finally...\n",
       "800009  positive  @e4VoIP I RESPONDED  Stupid cat is helping me ..."
      ]
     },
     "execution_count": 7,
     "metadata": {},
     "output_type": "execute_result"
    }
   ],
   "source": [
    "positive_tweets = df[df['sentiment'] == 'positive']\n",
    "\n",
    "positive_tweets.head(10)"
   ]
  },
  {
   "cell_type": "code",
   "execution_count": 8,
   "id": "e077624f",
   "metadata": {},
   "outputs": [
    {
     "data": {
      "text/plain": [
       "800000"
      ]
     },
     "execution_count": 8,
     "metadata": {},
     "output_type": "execute_result"
    }
   ],
   "source": [
    "len(positive_tweets)"
   ]
  },
  {
   "cell_type": "code",
   "execution_count": 9,
   "id": "f1f040d9",
   "metadata": {},
   "outputs": [
    {
     "data": {
      "text/plain": [
       "800000"
      ]
     },
     "execution_count": 9,
     "metadata": {},
     "output_type": "execute_result"
    }
   ],
   "source": [
    "negative_tweets = df[df['sentiment'] == 'negative']\n",
    "\n",
    "len(negative_tweets)"
   ]
  },
  {
   "cell_type": "code",
   "execution_count": 10,
   "id": "b9165fa8",
   "metadata": {},
   "outputs": [
    {
     "data": {
      "text/plain": [
       "([<matplotlib.patches.Wedge at 0x1e9dd3e2010>,\n",
       "  <matplotlib.patches.Wedge at 0x1e9fc3b2e50>],\n",
       " [Text(-1.1, 1.3471114790620887e-16, 'positive'),\n",
       "  Text(1.1, -2.6942229581241775e-16, 'negative')])"
      ]
     },
     "execution_count": 10,
     "metadata": {},
     "output_type": "execute_result"
    },
    {
     "data": {
      "image/png": "[encoded data removed]",
      "text/plain": [
       "<Figure size 500x500 with 1 Axes>"
      ]
     },
     "metadata": {},
     "output_type": "display_data"
    }
   ],
   "source": [
    "# Vizualizing the data with figure\n",
    "fig = plt.figure(figsize=(5, 5))\n",
    "\n",
    "# Assigning labels for both the sentiments\n",
    "labels = 'positive', 'negative'\n",
    "\n",
    "# sizes for the data belonging to two classes\n",
    "sizes = [len(positive_tweets), len(negative_tweets)]\n",
    "\n",
    "# Creating a pie chart to vizualize the data\n",
    "plt.pie(sizes, labels=labels, shadow=True, startangle=90)"
   ]
  },
  {
   "cell_type": "code",
   "execution_count": 11,
   "id": "7c58822a",
   "metadata": {},
   "outputs": [
    {
     "data": {
      "text/plain": [
       "sentiment    0\n",
       "tweet        0\n",
       "dtype: int64"
      ]
     },
     "execution_count": 11,
     "metadata": {},
     "output_type": "execute_result"
    }
   ],
   "source": [
    "df.isnull().sum()"
   ]
  },
  {
   "cell_type": "code",
   "execution_count": 12,
   "id": "7fe9e967",
   "metadata": {},
   "outputs": [
    {
     "name": "stdout",
     "output_type": "stream",
     "text": [
      "\u001b[92mIs baby sitting now  Zach's asleep at the moment... good times! Lets hope he stays that way for a while!\n",
      "\u001b[91m@macbella2  tis so sad! it's my exam week and I feel like crap-ola!\n"
     ]
    }
   ],
   "source": [
    "# print a random positive tweet in green\n",
    "print('\\033[92m' + positive_tweets['tweet'].iloc[random.randint(0, 800000)])\n",
    "\n",
    "# print a random negative tweet in red\n",
    "print('\\033[91m' + negative_tweets['tweet'].iloc[random.randint(0, 800000)])"
   ]
  },
  {
   "cell_type": "code",
   "execution_count": 13,
   "id": "8ae03ad3",
   "metadata": {},
   "outputs": [
    {
     "name": "stderr",
     "output_type": "stream",
     "text": [
      "[nltk_data] Downloading package stopwords to\n",
      "[nltk_data]     C:\\Users\\subha\\AppData\\Roaming\\nltk_data...\n",
      "[nltk_data]   Package stopwords is already up-to-date!\n"
     ]
    },
    {
     "data": {
      "text/plain": [
       "True"
      ]
     },
     "execution_count": 13,
     "metadata": {},
     "output_type": "execute_result"
    }
   ],
   "source": [
    "# Downloading the stopwords from NLTK\n",
    "nltk.download('stopwords')"
   ]
  },
  {
   "cell_type": "code",
   "execution_count": 14,
   "id": "f6849fa5",
   "metadata": {},
   "outputs": [
    {
     "name": "stdout",
     "output_type": "stream",
     "text": [
      "Total positive tweets :  800000\n",
      "Total negative tweets :  800000\n"
     ]
    }
   ],
   "source": [
    "pos_tweets = df[df['sentiment'] == 'positive']['tweet']\n",
    "neg_tweets = df[df['sentiment'] == 'negative']['tweet']\n",
    "\n",
    "print('Total positive tweets : ', len(pos_tweets))\n",
    "print('Total negative tweets : ', len(neg_tweets))"
   ]
  },
  {
   "cell_type": "code",
   "execution_count": 15,
   "id": "225b91b3",
   "metadata": {},
   "outputs": [],
   "source": [
    "import re\n",
    "import string\n",
    "from nltk.corpus import stopwords\n",
    "from nltk.stem import PorterStemmer\n",
    "from nltk.tokenize import TweetTokenizer"
   ]
  },
  {
   "cell_type": "code",
   "execution_count": 16,
   "id": "0375977c",
   "metadata": {},
   "outputs": [
    {
     "name": "stdout",
     "output_type": "stream",
     "text": [
      "Stop words\n",
      "\n",
      "['i', 'me', 'my', 'myself', 'we', 'our', 'ours', 'ourselves', 'you', \"you're\", \"you've\", \"you'll\", \"you'd\", 'your', 'yours', 'yourself', 'yourselves', 'he', 'him', 'his', 'himself', 'she', \"she's\", 'her', 'hers', 'herself', 'it', \"it's\", 'its', 'itself', 'they', 'them', 'their', 'theirs', 'themselves', 'what', 'which', 'who', 'whom', 'this', 'that', \"that'll\", 'these', 'those', 'am', 'is', 'are', 'was', 'were', 'be', 'been', 'being', 'have', 'has', 'had', 'having', 'do', 'does', 'did', 'doing', 'a', 'an', 'the', 'and', 'but', 'if', 'or', 'because', 'as', 'until', 'while', 'of', 'at', 'by', 'for', 'with', 'about', 'against', 'between', 'into', 'through', 'during', 'before', 'after', 'above', 'below', 'to', 'from', 'up', 'down', 'in', 'out', 'on', 'off', 'over', 'under', 'again', 'further', 'then', 'once', 'here', 'there', 'when', 'where', 'why', 'how', 'all', 'any', 'both', 'each', 'few', 'more', 'most', 'other', 'some', 'such', 'no', 'nor', 'not', 'only', 'own', 'same', 'so', 'than', 'too', 'very', 's', 't', 'can', 'will', 'just', 'don', \"don't\", 'should', \"should've\", 'now', 'd', 'll', 'm', 'o', 're', 've', 'y', 'ain', 'aren', \"aren't\", 'couldn', \"couldn't\", 'didn', \"didn't\", 'doesn', \"doesn't\", 'hadn', \"hadn't\", 'hasn', \"hasn't\", 'haven', \"haven't\", 'isn', \"isn't\", 'ma', 'mightn', \"mightn't\", 'mustn', \"mustn't\", 'needn', \"needn't\", 'shan', \"shan't\", 'shouldn', \"shouldn't\", 'wasn', \"wasn't\", 'weren', \"weren't\", 'won', \"won't\", 'wouldn', \"wouldn't\"]\n",
      "\n",
      "Punctuation\n",
      "\n",
      "!\"#$%&'()*+,-./:;<=>?@[\\]^_`{|}~\n"
     ]
    }
   ],
   "source": [
    "stopwords_english = stopwords.words('english')\n",
    "\n",
    "print('Stop words\\n')\n",
    "print(stopwords_english)\n",
    "\n",
    "print('\\nPunctuation\\n')\n",
    "print(string.punctuation)"
   ]
  },
  {
   "cell_type": "code",
   "execution_count": 17,
   "id": "2c077dbf",
   "metadata": {},
   "outputs": [],
   "source": [
    "def process_tweet(tweet):\n",
    "    \n",
    "    # removing old style tweets\n",
    "    tweet_new = re.sub(r'RT[\\s]+', '', tweet)\n",
    "    \n",
    "    # removing hyperlinks\n",
    "    tweet_new = re.sub(r'https?://[^\\s\\n\\r]+', '', tweet_new)\n",
    "    \n",
    "    #removing hash tags\n",
    "    tweet_new = re.sub(r'#', '', tweet_new)\n",
    "    \n",
    "    # instanciate a tokenizer class\n",
    "    tokenizer = TweetTokenizer(preserve_case=False, strip_handles=True, reduce_len=True)\n",
    "    \n",
    "    # tokenize tweets\n",
    "    tweet_tokens = tokenizer.tokenize(tweet_new)\n",
    "    \n",
    "    tweets_clean = []\n",
    "    \n",
    "    for word in tweet_tokens:\n",
    "        if (word not in stopwords_english and word not in string.punctuation):\n",
    "            tweets_clean.append(word)\n",
    "            \n",
    "    stemmer = PorterStemmer()\n",
    "    \n",
    "    tweets_stem = []\n",
    "    \n",
    "    for word in tweets_clean:\n",
    "        stem_word = stemmer.stem(word)\n",
    "        tweets_stem.append(stem_word)\n",
    "        \n",
    "    return tweets_stem"
   ]
  },
  {
   "cell_type": "code",
   "execution_count": 18,
   "id": "36f69b0b",
   "metadata": {},
   "outputs": [
    {
     "data": {
      "text/plain": [
       "'@LouLouK Gisburn is great, there are some nice little single track. Did you try some of the new bits? I havent been in a while '"
      ]
     },
     "execution_count": 18,
     "metadata": {},
     "output_type": "execute_result"
    }
   ],
   "source": [
    "test_tweet = df['tweet'][5000]\n",
    "test_tweet"
   ]
  },
  {
   "cell_type": "code",
   "execution_count": 19,
   "id": "9bb2d424",
   "metadata": {},
   "outputs": [
    {
     "data": {
      "text/plain": [
       "['gisburn',\n",
       " 'great',\n",
       " 'nice',\n",
       " 'littl',\n",
       " 'singl',\n",
       " 'track',\n",
       " 'tri',\n",
       " 'new',\n",
       " 'bit',\n",
       " 'havent']"
      ]
     },
     "execution_count": 19,
     "metadata": {},
     "output_type": "execute_result"
    }
   ],
   "source": [
    "process_tweet(test_tweet)"
   ]
  },
  {
   "cell_type": "code",
   "execution_count": 20,
   "id": "6955bc4f",
   "metadata": {},
   "outputs": [
    {
     "name": "stdout",
     "output_type": "stream",
     "text": [
      "Length of all positive tweets :  800000\n",
      "Length of all negative tweets :  800000\n"
     ]
    }
   ],
   "source": [
    "# Converting the data into lists of positive and negative tweets\n",
    "all_positive_tweets = pos_tweets.to_list()\n",
    "all_negative_tweets = neg_tweets.to_list()\n",
    "\n",
    "print('Length of all positive tweets : ', len(all_positive_tweets))\n",
    "print('Length of all negative tweets : ', len(all_negative_tweets))"
   ]
  },
  {
   "cell_type": "code",
   "execution_count": 21,
   "id": "20467ae5",
   "metadata": {},
   "outputs": [
    {
     "name": "stdout",
     "output_type": "stream",
     "text": [
      "Train data :-\n",
      "\n",
      "['I LOVE @Health4UandPets u guys r the best!! ', 'im meeting up with one of my besties tonight! Cant wait!!  - GIRL TALK!!', '@DaRealSunisaKim Thanks for the Twitter add, Sunisa! I got to meet you once at a HIN show here in the DC area and you were a sweetheart. ', 'Being sick can be really cheap when it hurts too much to eat real food  Plus, your friends make you soup', '@LovesBrooklyn2 he has that effect on everyone ']\n",
      "Test data :-\n",
      "\n",
      "['@Regencyg I, the lowly Freshman, will take heed of this. ', '@Jonasbrothers i love u to!!!  Nick J is a Sudmuffin ', '@TiffanySchmidt hehe Blame away  New WIP ftw!', 'will be going out soon! ', '@societyreject Yay       ']\n",
      "Length of train_x :  1280000\n",
      "Length of test_x :  320000\n"
     ]
    }
   ],
   "source": [
    "# Spliting the data into training and testing sets\n",
    "train_positive = all_positive_tweets[:640000]\n",
    "test_positive = all_positive_tweets[640000:]\n",
    "train_negative = all_negative_tweets[:640000]\n",
    "test_negative = all_negative_tweets[640000:]\n",
    "\n",
    "train_x = train_positive + train_negative\n",
    "test_x = test_positive + test_negative\n",
    "\n",
    "print('Train data :-\\n')\n",
    "print(train_x[:5])\n",
    "\n",
    "print('Test data :-\\n')\n",
    "print(test_x[:5])\n",
    "\n",
    "print('Length of train_x : ', len(train_x))\n",
    "print('Length of test_x : ', len(test_x))"
   ]
  },
  {
   "cell_type": "code",
   "execution_count": 22,
   "id": "cf867c63",
   "metadata": {},
   "outputs": [
    {
     "name": "stdout",
     "output_type": "stream",
     "text": [
      "Length of y_train :  1280000\n",
      "Length of y_test :  320000\n"
     ]
    }
   ],
   "source": [
    "y_train = np.append(np.ones(len(train_positive)), np.zeros(len(train_negative)))\n",
    "y_test = np.append(np.ones(len(test_positive)), np.zeros(len(test_negative)))\n",
    "\n",
    "print('Length of y_train : ', len(y_train))\n",
    "print('Length of y_test : ', len(y_test))"
   ]
  },
  {
   "cell_type": "code",
   "execution_count": 23,
   "id": "8c5dce73",
   "metadata": {},
   "outputs": [],
   "source": [
    "def count_tweets(result, tweets, ys):\n",
    "    \n",
    "    for y, tweet in zip(ys, tweets):\n",
    "        # the key in the dictionary is the word and label tuple\n",
    "        for word in process_tweet(tweet):\n",
    "            pair = (word, y)\n",
    "            \n",
    "            # if the key exists, incrementing the count by 1\n",
    "            if pair in result:\n",
    "                result[pair] += 1\n",
    "                \n",
    "            # else assigining it the count of 1\n",
    "            else:\n",
    "                result[pair] = 1\n",
    "                \n",
    "    return result"
   ]
  },
  {
   "cell_type": "code",
   "execution_count": 24,
   "id": "60bd7809",
   "metadata": {},
   "outputs": [
    {
     "data": {
      "text/plain": [
       "{('happi', 1): 1,\n",
       " ('trick', 0): 1,\n",
       " ('smile', 1): 1,\n",
       " ('nice', 1): 1,\n",
       " ('strong', 1): 1}"
      ]
     },
     "execution_count": 24,
     "metadata": {},
     "output_type": "execute_result"
    }
   ],
   "source": [
    "result = {}\n",
    "sample = ['i am happy', 'i am tricked', 'he is smiling', 'the are nice', 'i am strong']\n",
    "ys = [1, 0, 1, 1, 1]\n",
    "\n",
    "count_tweets(result, sample, ys)"
   ]
  },
  {
   "cell_type": "code",
   "execution_count": 32,
   "id": "ce9e15c0",
   "metadata": {},
   "outputs": [],
   "source": [
    "# freqs_dict = count_tweets({}, train_x, y_train)"
   ]
  },
  {
   "cell_type": "code",
   "execution_count": 26,
   "id": "3fb36fef",
   "metadata": {},
   "outputs": [],
   "source": [
    "import pickle\n",
    "\n",
    "# file_path = 'freqs_count_dict.json'\n",
    "\n",
    "# with open(file_path, 'wb') as pickle_file:\n",
    "#     pickle.dump(freqs_dict, pickle_file)"
   ]
  },
  {
   "cell_type": "code",
   "execution_count": 27,
   "id": "4ffc6c8c",
   "metadata": {},
   "outputs": [],
   "source": [
    "# loading the frequency count dictionary\n",
    "file_path = 'freqs_count_dict.json'\n",
    "\n",
    "with open(file_path, 'rb') as pickle_file:\n",
    "    freqs_dict = pickle.load(pickle_file)"
   ]
  },
  {
   "cell_type": "code",
   "execution_count": 44,
   "id": "8f5e98bd",
   "metadata": {},
   "outputs": [],
   "source": [
    "# just a simple fuction to get the values of certain classes\n",
    "def lookup(freqs_dict, word, label):\n",
    "    \n",
    "    n = 0\n",
    "    \n",
    "    pair = (word, label)\n",
    "    if (pair in freqs_dict):\n",
    "        n = freqs_dict[pair]\n",
    "        \n",
    "    return n"
   ]
  },
  {
   "cell_type": "code",
   "execution_count": 43,
   "id": "b9a5c896",
   "metadata": {},
   "outputs": [],
   "source": [
    "# training Naive Bayes classifier\n",
    "def train_naive_bayes(freqs_dict, train_x, train_y):\n",
    "    \n",
    "    log_likelihood = {}\n",
    "    logprior = 0\n",
    "    \n",
    "    # calculating the total number of unique words in the dictionary\n",
    "    vocab = set([pair[0] for pair in freqs_dict.keys()])\n",
    "    V = len(vocab)\n",
    "    \n",
    "    # calculating the total number of words in each classes\n",
    "    N_pos = N_neg = V_pos = V_neg = 0\n",
    "    for pair in freqs_dict.keys():\n",
    "        if pair[1] > 0:\n",
    "            # incrementing the positive word count by the value of the pair \n",
    "            N_pos += freqs_dict[pair]\n",
    "            V_pos += 1\n",
    "            \n",
    "        else:\n",
    "            # incrementing the positive word count by the value of the pair\n",
    "            N_neg += freqs_dict[pair]\n",
    "            V_neg += 1\n",
    "        \n",
    "    # the total number of documents\n",
    "    D = len(train_y)\n",
    "    # the number of positive documents\n",
    "    D_pos = len(list(filter(lambda x : x > 0, train_y)))\n",
    "    # the number of negative documents\n",
    "    D_neg = len(list(filter(lambda x : x <= 0, train_y)))\n",
    "    \n",
    "    # calculating the logprior\n",
    "    logprior = np.log(D_pos) - np.log(D_neg)\n",
    "    \n",
    "    for word in vocab:\n",
    "        # getting the number of positive and negative words\n",
    "        freq_pos = lookup(freqs_dict, word, 1)\n",
    "        freq_neg = lookup(freqs_dict, word, 0)\n",
    "        \n",
    "        # calculating the probability of each positive and negative word\n",
    "        p_w_pos = (freq_pos + 1) / (N_pos + V)\n",
    "        p_w_neg = (freq_neg + 1) / (N_neg + V)\n",
    "        \n",
    "        # loglikelihood of the word i.e a dictionary\n",
    "        log_likelihood[word] = np.log(p_w_pos / p_w_neg)\n",
    "        \n",
    "    return logprior, log_likelihood"
   ]
  },
  {
   "cell_type": "code",
   "execution_count": 30,
   "id": "a215af61",
   "metadata": {},
   "outputs": [
    {
     "name": "stdout",
     "output_type": "stream",
     "text": [
      "0.0\n",
      "236913\n"
     ]
    }
   ],
   "source": [
    "logprior, loglikelihood = train_naive_bayes(freqs_dict, train_x, y_train)\n",
    "\n",
    "print(logprior)\n",
    "print(len(loglikelihood))"
   ]
  },
  {
   "cell_type": "code",
   "execution_count": 45,
   "id": "b2c8be31",
   "metadata": {},
   "outputs": [],
   "source": [
    "def naive_bayes_predict(tweet, logprior, loglikelihood):\n",
    "    \n",
    "    # processing the tweet to get list of words\n",
    "    word_1 = process_tweet(tweet)\n",
    "    \n",
    "    # initializing probability to zero\n",
    "    p = 0\n",
    "    # adding the logprior(zero for balanced dataset)\n",
    "    p += logprior\n",
    "    \n",
    "    for word in word_1:\n",
    "        if word in loglikelihood:\n",
    "            # adding the loglikelihood of that word to the probability\n",
    "            p += loglikelihood[word]\n",
    "            \n",
    "    return p"
   ]
  },
  {
   "cell_type": "code",
   "execution_count": 46,
   "id": "63788003",
   "metadata": {},
   "outputs": [
    {
     "name": "stdout",
     "output_type": "stream",
     "text": [
      "The output is :  1.0986955909322416\n"
     ]
    }
   ],
   "source": [
    "my_tweet = 'He was extremely delighted!!'\n",
    "p = naive_bayes_predict(my_tweet, logprior, loglikelihood)\n",
    "\n",
    "print('The output is : ', p)"
   ]
  },
  {
   "cell_type": "code",
   "execution_count": 39,
   "id": "e0358595",
   "metadata": {},
   "outputs": [],
   "source": [
    "# testing the naive Bayes predict\n",
    "def test_naive_bayes(test_x, test_y, logprior, loglikelihood, naive_bayes_predict=naive_bayes_predict):\n",
    "    \n",
    "    # this is to be returned\n",
    "    accuracy = 0\n",
    "    # creating an empty list to store predictions\n",
    "    y_hats = []\n",
    "    \n",
    "    for tweet in test_x:\n",
    "        if naive_bayes_predict(tweet, logprior, loglikelihood) > 0:\n",
    "            y_hat_i = 1\n",
    "        else:\n",
    "            y_hat_i = 0\n",
    "            \n",
    "        # append the predictions to the list\n",
    "        y_hats.append(y_hat_i)\n",
    "    \n",
    "    # the average of absolute values of the differences of y and y_hat\n",
    "    error = np.mean(np.absolute(y_hats - test_y))\n",
    "    # accuracy is 1 minus the error\n",
    "    accuracy = 1 - error\n",
    "    \n",
    "    return accuracy"
   ]
  },
  {
   "cell_type": "code",
   "execution_count": 40,
   "id": "f4e61cab",
   "metadata": {},
   "outputs": [
    {
     "name": "stdout",
     "output_type": "stream",
     "text": [
      "Accuracy :  0.7569625\n"
     ]
    }
   ],
   "source": [
    "print('Accuracy : ', test_naive_bayes(test_x, y_test, logprior, loglikelihood))"
   ]
  },
  {
   "cell_type": "code",
   "execution_count": 42,
   "id": "cec5dfb2",
   "metadata": {},
   "outputs": [
    {
     "name": "stdout",
     "output_type": "stream",
     "text": [
      "I am happy -> 1.31\n",
      "He is bad -> -1.31\n",
      "this movie should have been great -> 1.85\n",
      "great -> 1.19\n",
      "awesome! -> 1.39\n",
      "He is aweful! -> -0.32\n",
      "The movie Oppenheimer by @Nolan is a masterpiece! -> 0.83\n",
      "Everyone should watch the movie Tenet -> 1.56\n"
     ]
    }
   ],
   "source": [
    "# testing a set of tweets\n",
    "tweets_list = ['I am happy', 'He is bad', 'this movie should have been great', 'great', 'awesome!', 'He is aweful!', 'The movie Oppenheimer by @Nolan is a masterpiece!', 'Everyone should watch the movie Tenet']\n",
    "\n",
    "for tweet in tweets_list:\n",
    "    p = naive_bayes_predict(tweet, logprior, loglikelihood)\n",
    "    print(f'{tweet} -> {p:.2f}')"
   ]
  },
  {
   "cell_type": "code",
   "execution_count": null,
   "id": "3c88e3e3",
   "metadata": {},
   "outputs": [],
   "source": []
  }
 ],
 "metadata": {
  "kernelspec": {
   "display_name": "Python 3 (ipykernel)",
   "language": "python",
   "name": "python3"
  },
  "language_info": {
   "codemirror_mode": {
    "name": "ipython",
    "version": 3
   },
   "file_extension": ".py",
   "mimetype": "text/x-python",
   "name": "python",
   "nbconvert_exporter": "python",
   "pygments_lexer": "ipython3",
   "version": "3.10.14"
  }
 },
 "nbformat": 4,
 "nbformat_minor": 5
}
